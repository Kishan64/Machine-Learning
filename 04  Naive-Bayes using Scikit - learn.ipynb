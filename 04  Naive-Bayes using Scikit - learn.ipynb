{
 "cells": [
  {
   "cell_type": "code",
   "execution_count": 1,
   "metadata": {},
   "outputs": [],
   "source": [
    "import numpy as np\n",
    "import pandas as pd\n",
    "import matplotlib.pyplot as plt\n",
    "import seaborn as sn\n",
    "\n",
    "from sklearn.feature_extraction.text import CountVectorizer\n",
    "from sklearn.model_selection import train_test_split\n",
    "from sklearn.naive_bayes import MultinomialNB\n",
    "\n",
    "from sklearn.metrics import recall_score,precision_score,f1_score,confusion_matrix,roc_auc_score,roc_curve,classification_report\n"
   ]
  },
  {
   "cell_type": "code",
   "execution_count": 2,
   "metadata": {},
   "outputs": [],
   "source": [
    "DATA_JSON_FILE = 'SpamData/01_Processing/email-text-data.json'"
   ]
  },
  {
   "cell_type": "code",
   "execution_count": 3,
   "metadata": {},
   "outputs": [],
   "source": [
    "data = pd.read_json(DATA_JSON_FILE)"
   ]
  },
  {
   "cell_type": "code",
   "execution_count": 4,
   "metadata": {},
   "outputs": [
    {
     "data": {
      "text/html": [
       "<div>\n",
       "<style scoped>\n",
       "    .dataframe tbody tr th:only-of-type {\n",
       "        vertical-align: middle;\n",
       "    }\n",
       "\n",
       "    .dataframe tbody tr th {\n",
       "        vertical-align: top;\n",
       "    }\n",
       "\n",
       "    .dataframe thead th {\n",
       "        text-align: right;\n",
       "    }\n",
       "</style>\n",
       "<table border=\"1\" class=\"dataframe\">\n",
       "  <thead>\n",
       "    <tr style=\"text-align: right;\">\n",
       "      <th></th>\n",
       "      <th>CATEGORY</th>\n",
       "      <th>MESSAGE</th>\n",
       "      <th>FILE_NAME</th>\n",
       "    </tr>\n",
       "  </thead>\n",
       "  <tbody>\n",
       "    <tr>\n",
       "      <th>5791</th>\n",
       "      <td>0</td>\n",
       "      <td>I'm one of the 30,000 but it's not working ver...</td>\n",
       "      <td>00609.dd49926ce94a1ea328cce9b62825bc97</td>\n",
       "    </tr>\n",
       "    <tr>\n",
       "      <th>5792</th>\n",
       "      <td>0</td>\n",
       "      <td>Damien Morton quoted:\\n\\n&gt;W3C approves HTML 4 ...</td>\n",
       "      <td>00957.e0b56b117f3ec5f85e432a9d2a47801f</td>\n",
       "    </tr>\n",
       "    <tr>\n",
       "      <th>5793</th>\n",
       "      <td>0</td>\n",
       "      <td>On Mon, 2002-07-22 at 06:50, che wrote:\\n\\n\\n\\...</td>\n",
       "      <td>01127.841233b48eceb74a825417d8d918abf8</td>\n",
       "    </tr>\n",
       "    <tr>\n",
       "      <th>5794</th>\n",
       "      <td>0</td>\n",
       "      <td>Once upon a time, Manfred wrote :\\n\\n\\n\\n&gt; I w...</td>\n",
       "      <td>01178.5c977dff972cd6eef64d4173b90307f0</td>\n",
       "    </tr>\n",
       "    <tr>\n",
       "      <th>5795</th>\n",
       "      <td>0</td>\n",
       "      <td>If you run Pick, and then use the \"New FTOC\" b...</td>\n",
       "      <td>00747.352d424267d36975a7b40b85ffd0885e</td>\n",
       "    </tr>\n",
       "  </tbody>\n",
       "</table>\n",
       "</div>"
      ],
      "text/plain": [
       "      CATEGORY                                            MESSAGE  \\\n",
       "5791         0  I'm one of the 30,000 but it's not working ver...   \n",
       "5792         0  Damien Morton quoted:\\n\\n>W3C approves HTML 4 ...   \n",
       "5793         0  On Mon, 2002-07-22 at 06:50, che wrote:\\n\\n\\n\\...   \n",
       "5794         0  Once upon a time, Manfred wrote :\\n\\n\\n\\n> I w...   \n",
       "5795         0  If you run Pick, and then use the \"New FTOC\" b...   \n",
       "\n",
       "                                   FILE_NAME  \n",
       "5791  00609.dd49926ce94a1ea328cce9b62825bc97  \n",
       "5792  00957.e0b56b117f3ec5f85e432a9d2a47801f  \n",
       "5793  01127.841233b48eceb74a825417d8d918abf8  \n",
       "5794  01178.5c977dff972cd6eef64d4173b90307f0  \n",
       "5795  00747.352d424267d36975a7b40b85ffd0885e  "
      ]
     },
     "execution_count": 4,
     "metadata": {},
     "output_type": "execute_result"
    }
   ],
   "source": [
    "data.tail()"
   ]
  },
  {
   "cell_type": "code",
   "execution_count": 5,
   "metadata": {},
   "outputs": [
    {
     "data": {
      "text/plain": [
       "(5796, 3)"
      ]
     },
     "execution_count": 5,
     "metadata": {},
     "output_type": "execute_result"
    }
   ],
   "source": [
    "data.shape"
   ]
  },
  {
   "cell_type": "code",
   "execution_count": 6,
   "metadata": {},
   "outputs": [],
   "source": [
    "#For Sorting index in ascending order\n",
    "data.sort_index(inplace = True)"
   ]
  },
  {
   "cell_type": "code",
   "execution_count": 7,
   "metadata": {},
   "outputs": [],
   "source": [
    "vectorizer = CountVectorizer(stop_words='english')"
   ]
  },
  {
   "cell_type": "code",
   "execution_count": 8,
   "metadata": {},
   "outputs": [
    {
     "data": {
      "text/plain": [
       "CountVectorizer(analyzer='word', binary=False, decode_error='strict',\n",
       "                dtype=<class 'numpy.int64'>, encoding='utf-8', input='content',\n",
       "                lowercase=True, max_df=1.0, max_features=None, min_df=1,\n",
       "                ngram_range=(1, 1), preprocessor=None, stop_words='english',\n",
       "                strip_accents=None, token_pattern='(?u)\\\\b\\\\w\\\\w+\\\\b',\n",
       "                tokenizer=None, vocabulary=None)"
      ]
     },
     "execution_count": 8,
     "metadata": {},
     "output_type": "execute_result"
    }
   ],
   "source": [
    "vectorizer"
   ]
  },
  {
   "cell_type": "code",
   "execution_count": 9,
   "metadata": {},
   "outputs": [],
   "source": [
    "all_features = vectorizer.fit_transform(data.MESSAGE)"
   ]
  },
  {
   "cell_type": "code",
   "execution_count": 10,
   "metadata": {},
   "outputs": [
    {
     "data": {
      "text/plain": [
       "(5796, 102694)"
      ]
     },
     "execution_count": 10,
     "metadata": {},
     "output_type": "execute_result"
    }
   ],
   "source": [
    "all_features.shape"
   ]
  },
  {
   "cell_type": "code",
   "execution_count": 11,
   "metadata": {},
   "outputs": [
    {
     "data": {
      "text/plain": [
       "{'dear': 32719,\n",
       " 'homeowner': 48034,\n",
       " 'rates': 76350,\n",
       " 'lowest': 59365,\n",
       " 'point': 72297,\n",
       " '40': 7824,\n",
       " 'years': 98506,\n",
       " 'help': 47200,\n",
       " 'best': 23129,\n",
       " 'rate': 76347,\n",
       " 'situation': 82318,\n",
       " 'matching': 60930,\n",
       " 'needs': 64750,\n",
       " 'hundreds': 48607,\n",
       " 'lenders': 58021,\n",
       " 'home': 48006,\n",
       " 'improvement': 51399,\n",
       " 'refinance': 77074,\n",
       " 'second': 80968,\n",
       " 'mortgage': 63026,\n",
       " 'equity': 38990,\n",
       " 'loans': 59058,\n",
       " 'perfect': 70478,\n",
       " 'credit': 30975,\n",
       " 'service': 81359,\n",
       " '100': 1496,\n",
       " 'free': 42773,\n",
       " 'owners': 68715,\n",
       " 'new': 64988,\n",
       " 'buyers': 25617,\n",
       " 'obligation': 66813,\n",
       " 'just': 55049,\n",
       " 'quick': 75547,\n",
       " 'simple': 82172,\n",
       " 'form': 42425,\n",
       " 'jump': 55000,\n",
       " 'start': 84135,\n",
       " 'future': 43330,\n",
       " 'plans': 71939,\n",
       " 'today': 88039,\n",
       " 'visit': 92921,\n",
       " 'http': 48497,\n",
       " '61': 10092,\n",
       " '145': 2275,\n",
       " '116': 1873,\n",
       " '186': 2748,\n",
       " 'user0201': 91339,\n",
       " 'index': 51639,\n",
       " 'asp': 20429,\n",
       " 'afft': 17606,\n",
       " 'qm10': 75108,\n",
       " 'unsubscribe': 90955,\n",
       " 'light': 58472,\n",
       " 'watch': 94281,\n",
       " 'attention': 20740,\n",
       " 'computer': 29755,\n",
       " 'users': 91367,\n",
       " 'special': 83501,\n",
       " 'package': 69119,\n",
       " 'deal': 32703,\n",
       " 'norton': 65833,\n",
       " 'systemworks': 85743,\n",
       " '2002': 3508,\n",
       " 'software': 83094,\n",
       " 'suite': 85010,\n",
       " 'professional': 73364,\n",
       " 'edition': 37555,\n",
       " 'includes': 51529,\n",
       " 'yes': 98554,\n",
       " 'feature': 41058,\n",
       " 'packed': 69127,\n",
       " 'utilities': 91474,\n",
       " 'low': 59355,\n",
       " 'price': 73136,\n",
       " 'protect': 73612,\n",
       " 'unwanted': 91011,\n",
       " 'hazardous': 46863,\n",
       " 'viruses': 92887,\n",
       " 'secure': 81012,\n",
       " 'private': 73228,\n",
       " 'valuable': 92057,\n",
       " 'information': 51875,\n",
       " 'allow': 18722,\n",
       " 'transfer': 88556,\n",
       " 'files': 41540,\n",
       " 'send': 81178,\n",
       " 'mails': 60404,\n",
       " 'safely': 80079,\n",
       " 'backup': 22191,\n",
       " 'data': 32319,\n",
       " 'easily': 37275,\n",
       " 'improve': 51396,\n",
       " 'pc': 69756,\n",
       " 'performance': 70486,\n",
       " 'superior': 85124,\n",
       " 'integral': 52274,\n",
       " 'diagnostics': 33895,\n",
       " 'great': 45565,\n",
       " '300': 5594,\n",
       " 'combined': 29424,\n",
       " 'retail': 77958,\n",
       " 'value': 92060,\n",
       " '29': 4793,\n",
       " '99': 13970,\n",
       " 'shipping': 81777,\n",
       " 'don': 34992,\n",
       " 'fall': 40613,\n",
       " 'prey': 73130,\n",
       " 'destructive': 33432,\n",
       " 'hackers': 46445,\n",
       " 'delay': 33048,\n",
       " 'copy': 30455,\n",
       " 'euro': 39422,\n",
       " 'specialdiscounts4u': 83503,\n",
       " 'com': 29405,\n",
       " 'email': 38216,\n",
       " 'screened': 80746,\n",
       " 'filtered': 41575,\n",
       " 'house': 48262,\n",
       " 'opt': 67895,\n",
       " 'compliance': 29680,\n",
       " 'state': 84171,\n",
       " 'laws': 57670,\n",
       " 'wish': 95691,\n",
       " 'mailing': 60381,\n",
       " 'lists': 58733,\n",
       " 'thousands': 87420,\n",
       " 'providers': 73664,\n",
       " 'dvd': 36559,\n",
       " 'optoutd': 67953,\n",
       " 'html': 48472,\n",
       " 'multi': 63629,\n",
       " 'message': 61680,\n",
       " 'mime': 62140,\n",
       " 'format': 42435,\n",
       " '_nextpart_000_1cdc19_01c25366': 15065,\n",
       " '4b57f3a0': 8446,\n",
       " 'content': 30249,\n",
       " 'type': 89371,\n",
       " 'text': 86991,\n",
       " 'plain': 71912,\n",
       " 'charset': 27796,\n",
       " 'windows': 95603,\n",
       " '1252': 2025,\n",
       " 'encoding': 38472,\n",
       " 'quoted': 75615,\n",
       " 'printable': 73192,\n",
       " 'dare': 32275,\n",
       " 'try': 88914,\n",
       " 'better': 23177,\n",
       " 'annuity': 19372,\n",
       " '20': 3486,\n",
       " 'guaranteed': 45873,\n",
       " '0a': 913,\n",
       " 'year': 98499,\n",
       " 'surrender': 85252,\n",
       " 'charge': 27776,\n",
       " 'agent': 17767,\n",
       " 'commission': 29509,\n",
       " 'age': 17749,\n",
       " '80': 12020,\n",
       " '09': 844,\n",
       " '800': 12021,\n",
       " '888': 12834,\n",
       " '7641': 11385,\n",
       " 'ext': 40021,\n",
       " '103': 1629,\n",
       " 'mail': 60312,\n",
       " 'phone': 71311,\n",
       " 'city': 28382,\n",
       " 'pmg': 72167,\n",
       " 'financial': 41598,\n",
       " 'services': 81361,\n",
       " 'deposits': 33268,\n",
       " '000': 1,\n",
       " '25': 4433,\n",
       " 'totalling': 88270,\n",
       " '999': 14021,\n",
       " 'want': 94159,\n",
       " 'receive': 76783,\n",
       " 'mailings': 60385,\n",
       " 'does': 34891,\n",
       " 'communication': 29550,\n",
       " 'sent': 81223,\n",
       " 'insurance': 52249,\n",
       " 'professionals': 73369,\n",
       " 'removed': 77482,\n",
       " 'list': 58680,\n",
       " 'reply': 77619,\n",
       " 'instead': 52204,\n",
       " 'www': 96531,\n",
       " 'insuranceiq': 52250,\n",
       " 'optout': 67950,\n",
       " 'legal': 57964,\n",
       " 'notice': 65888,\n",
       " 'insiq': 52136,\n",
       " 'htm': 48469,\n",
       " 'iso': 53094,\n",
       " '8859': 12828,\n",
       " 'head': 47011,\n",
       " 'title': 87725,\n",
       " 'meta': 61701,\n",
       " 'equiv': 38991,\n",
       " '3d': 6385,\n",
       " '3diso': 7050,\n",
       " 'body': 24390,\n",
       " 'bgcolor': 23297,\n",
       " '666666': 10388,\n",
       " '000000': 4,\n",
       " 'font': 42257,\n",
       " 'face': 40498,\n",
       " 'arial': 20116,\n",
       " 'helvetica': 47220,\n",
       " 'sans': 80256,\n",
       " 'serif': 81304,\n",
       " 'table': 86120,\n",
       " 'width': 95488,\n",
       " '550': 9237,\n",
       " 'border': 24581,\n",
       " 'align': 18634,\n",
       " 'center': 27405,\n",
       " 'cellpadding': 27375,\n",
       " 'cellspacing': 27383,\n",
       " 'bordercolor': 24584,\n",
       " 'ffffff': 41323,\n",
       " 'tr': 88442,\n",
       " 'td': 86548,\n",
       " 'img': 51212,\n",
       " 'src': 83872,\n",
       " 'iiq': 50896,\n",
       " 'images': 51166,\n",
       " '20020822': 3574,\n",
       " '101': 1549,\n",
       " 'gif': 44644,\n",
       " 'alt': 18803,\n",
       " 'height': 47157,\n",
       " '55': 9236,\n",
       " 'br': 24813,\n",
       " '102': 1573,\n",
       " 'jpg': 54782,\n",
       " '47': 8247,\n",
       " '248': 4390,\n",
       " '201': 3671,\n",
       " '32': 5755,\n",
       " '142': 2255,\n",
       " '202': 3687,\n",
       " '10': 1495,\n",
       " '508': 8989,\n",
       " 'size': 82347,\n",
       " '535': 9143,\n",
       " '115': 1857,\n",
       " '95': 13787,\n",
       " 'method': 61737,\n",
       " 'post': 72590,\n",
       " 'action': 16898,\n",
       " '65': 10286,\n",
       " '217': 3962,\n",
       " '159': 2436,\n",
       " 'response': 77872,\n",
       " 'background': 22154,\n",
       " 'colspan': 29390,\n",
       " '15': 2339,\n",
       " 'right': 78422,\n",
       " 'input': 52071,\n",
       " 'contactname': 30214,\n",
       " '50': 8926,\n",
       " 'rowspan': 79053,\n",
       " 'valign': 92046,\n",
       " 'middle': 62022,\n",
       " 'q3': 74528,\n",
       " '43': 8047,\n",
       " '30': 5593,\n",
       " 'nbsp': 64561,\n",
       " 'submit': 84812,\n",
       " 'btnsubmit': 25292,\n",
       " 'hidden': 47506,\n",
       " 'hdnrecipienttxt': 46980,\n",
       " 'rhock': 78313,\n",
       " 'pmgsecurities': 72170,\n",
       " 'hdnsubjecttxt': 46981,\n",
       " 'ad': 16973,\n",
       " 'inquiry': 52084,\n",
       " 'sentto': 81235,\n",
       " '304704': 5623,\n",
       " '416': 7965,\n",
       " 'cccccc': 27141,\n",
       " 'href': 48390,\n",
       " 'important': 51356,\n",
       " 'domain': 34956,\n",
       " 'names': 64368,\n",
       " 'finally': 41591,\n",
       " 'available': 21047,\n",
       " 'general': 44238,\n",
       " 'public': 74013,\n",
       " 'discount': 34270,\n",
       " 'prices': 73143,\n",
       " 'register': 77175,\n",
       " 'exciting': 39714,\n",
       " 'biz': 23754,\n",
       " 'info': 51836,\n",
       " 'original': 68112,\n",
       " 'net': 64868,\n",
       " '14': 2224,\n",
       " 'brand': 24872,\n",
       " 'extensions': 40037,\n",
       " 'recently': 76800,\n",
       " 'approved': 19837,\n",
       " 'icann': 49700,\n",
       " 'rights': 78433,\n",
       " 'biggest': 23562,\n",
       " 'benefit': 23038,\n",
       " 'course': 30683,\n",
       " 'currently': 31433,\n",
       " 'easier': 37272,\n",
       " 'attractive': 20763,\n",
       " 'easy': 37289,\n",
       " 'remember': 77426,\n",
       " 'affordable': 17601,\n",
       " 'domains': 34965,\n",
       " 'registration': 77185,\n",
       " 'fees': 41110,\n",
       " 'include': 51527,\n",
       " 'access': 16655,\n",
       " 'use': 91315,\n",
       " 'control': 30335,\n",
       " 'panel': 69308,\n",
       " 'manage': 60592,\n",
       " 'sincerely': 82208,\n",
       " 'administrator': 17205,\n",
       " 'remove': 77467,\n",
       " 'address': 17095,\n",
       " 'promotional': 73492,\n",
       " 'company': 29579,\n",
       " 'click': 28719,\n",
       " 'centralremovalservice': 27420,\n",
       " 'cgi': 27613,\n",
       " 'bin': 23627,\n",
       " 'g1': 43562,\n",
       " 'ss2': 83915,\n",
       " '5592oxer3': 9274,\n",
       " '424uqkh2259kcdl5': 8017,\n",
       " '189geil31': 2775,\n",
       " 'line': 58568,\n",
       " 'away': 21243,\n",
       " 'cd': 27206,\n",
       " 'people': 70441,\n",
       " 'like': 58501,\n",
       " 'month': 62908,\n",
       " 'let': 58083,\n",
       " 'talk': 86256,\n",
       " 'product': 73337,\n",
       " 'samples': 80195,\n",
       " 'earn': 37247,\n",
       " '45': 8150,\n",
       " 'days': 32422,\n",
       " 'think': 87327,\n",
       " 'kidding': 56080,\n",
       " 'earned': 37249,\n",
       " 'precisely': 72891,\n",
       " '26': 4538,\n",
       " '087': 808,\n",
       " '58': 9372,\n",
       " '94': 13749,\n",
       " 'doing': 34927,\n",
       " 'scanned': 80503,\n",
       " 'checks': 27877,\n",
       " 'online': 67665,\n",
       " 'eyes': 40137,\n",
       " 've': 92282,\n",
       " 'tweaked': 89241,\n",
       " 'things': 87324,\n",
       " 'little': 58765,\n",
       " 'busy': 25579,\n",
       " 'aren': 20082,\n",
       " 'good': 45236,\n",
       " 'talking': 86262,\n",
       " 'work': 96033,\n",
       " 'time': 87625,\n",
       " 'helped': 47202,\n",
       " 'julie': 54988,\n",
       " '750': 11318,\n",
       " 'week': 95087,\n",
       " 'jeff': 54091,\n",
       " '6500': 10288,\n",
       " 'weeks': 95096,\n",
       " 'exact': 39641,\n",
       " 'business': 25553,\n",
       " 'plan': 71920,\n",
       " 'tell': 86773,\n",
       " 'exactly': 39642,\n",
       " 'expect': 39884,\n",
       " 'starting': 84139,\n",
       " 'guesswork': 45907,\n",
       " 'seriously': 81307,\n",
       " 'evaluate': 39462,\n",
       " 'happy': 46653,\n",
       " 'fly': 42067,\n",
       " 'los': 59291,\n",
       " 'angeles': 19243,\n",
       " 'expense': 39907,\n",
       " 'closer': 28825,\n",
       " 'look': 59221,\n",
       " 'following': 42233,\n",
       " 'postal': 72594,\n",
       " 'number': 66246,\n",
       " 'area': 20071,\n",
       " 'code': 29201,\n",
       " 'mailto': 60412,\n",
       " 'cashflows99': 26900,\n",
       " 'excite': 39710,\n",
       " 'subject': 84789,\n",
       " 'free_cd': 42780,\n",
       " 'senate': 81174,\n",
       " '1618': 2477,\n",
       " 'section': 80998,\n",
       " '301': 5607,\n",
       " 'states': 84184,\n",
       " 'statement': 84182,\n",
       " 'transmissions': 88603,\n",
       " 'unsolicited': 90939,\n",
       " 'commercial': 29498,\n",
       " 'electronic': 38071,\n",
       " 'recipient': 76827,\n",
       " 'person': 70605,\n",
       " 'initiates': 51978,\n",
       " 'transmission': 88602,\n",
       " 'stopped': 84453,\n",
       " 'cost': 30578,\n",
       " 'sending': 81193,\n",
       " 'originating': 68120,\n",
       " 'word': 96017,\n",
       " '_nextpart_000_00b8_51e06b6a': 15002,\n",
       " 'c8586b31': 26321,\n",
       " 'base64': 22487,\n",
       " 'sgvyzsdzihrozsbob3r0zxn0ihroaw5nigluierwrhmuie5vdyb5b3ugy2fu': 81565,\n",
       " 'ig1ha2ugysbwzxjzb25hbcbiywnrdxancmnvchkgb2ygysbevkqgcmlnahqg': 50347,\n",
       " 'b250bybdrc1sliagt3vyicjib3qiig5ldybzb2z0d2fyzsblyxnpbhkgdgfr': 21685,\n",
       " 'zxmgew91ihrocm91z2gncnrozsbzdgvwcyb0bybtywtligegy29wesbvzib5': 101290,\n",
       " 'b3vyig93bibevkrzlg0kdqpot1cgsu5dtfveruqgrk9siezsruuhienvchkg': 21923,\n",
       " 'uexbwvnuqvrjt04sie1vu0ldl01qm3mgyw5kigfsbcbtb2z0d2fyzs4ncg0k': 89906,\n",
       " 'lsbtdgvwigj5ifn0zxagsw50zxjhy3rpdmugsw5zdhj1y3rpb25zia0klsbb': 59524,\n",
       " 'bgwgu29mdhdhcmugvg9vbhmgsw5jbhvkzwqgt24gq0qgdqotie5vierwrcbc': 23387,\n",
       " 'dxjuzxigumvxdwlyzwqgdqotiezsruugtgl2zsbuzwnobmljywwgu3vwcg9y': 36708,\n",
       " 'dcanci0gmzagrgf5ifjpc2sgrnjlzsbucmlhbcbbdmfpbgfibgugdqotiezs': 32518,\n",
       " 'ruugrhzkie1vdmllig9mihlvdxigy2hvawnlichmsu1jveveifrjtuugt0zg': 79508,\n",
       " 'rvihkq0kdqpxzsboyxzliefsbcb0agugc29mdhdhcmugew91ig5lzwqgdg8g': 79545,\n",
       " 'q09qwsb5b3vyig93bibevkqgtw92awvzlg0kdqpodhrwoi8vc2ftlm1vdghv': 74438,\n",
       " 'c3quy29tl3bvcy9kdmquahrtdqorkysrkysrkysrkysrkysrkysrkysrkysr': 26178,\n",
       " 'kysrkysrkysrkysrkysrkysrkysrkysrkysrkysrkysrkysrkysrkysrkysr': 57058,\n",
       " 'kysrkysrdqpuaglzigvtywlsighhcybizwvuihnjcmvlbmvkigfuzcbmawx0': 57050,\n",
       " 'zxjlzcbiesbvdxigaw4gag91c2ugiijpufqtt1vuiiigc3lzdgvtigluia0k': 101273,\n",
       " 'y29tcgxpyw5jzsb3axroihn0yxrligxhd3muielmihlvdsb3axnoihrvicjp': 98043,\n",
       " 'ufqtt1vuiibmcm9tihroaxmgbwfpbgluzybhcyb3zwxsia0kyxmgdghligxp': 89946,\n",
       " 'c3rzig9mihrob3vzyw5kcyagb2ygb3rozxigzw1hawwgchjvdmlkzxjzihbs': 26187,\n",
       " 'zwfzzsb2axnpdcagdqoncmh0dha6ly9zyw0ubw90ag9zdc5jb20vcg9zl29w': 101128,\n",
       " 'dg91dgquahrtba0kkysrkysrkysrkysrkysrkysrkysrkysrkysrkysrkysr': 33618,\n",
       " 'kysrkysrkysrkysrkysrkysrkysrkysrkysrkysrkysrkysrkysrkysrkw0k': 57057,\n",
       " 'odqyovplwm01ltu4ngjsyw4yodi2enhhrdetmtm4qm1uvdywothuswnvny0y': 67055,\n",
       " 'mjbyawtnmzyymgw1mg': 62412,\n",
       " 'style': 84723,\n",
       " 'css': 31256,\n",
       " '12px': 2094,\n",
       " 'color': 29367,\n",
       " 'navy': 64517,\n",
       " 'hello': 47193,\n",
       " 'chinese': 28004,\n",
       " 'traditional': 88502,\n",
       " 'div': 34529,\n",
       " '376px': 6125,\n",
       " '195px': 2861,\n",
       " 'left': 57950,\n",
       " '238px': 4304,\n",
       " 'position': 72563,\n",
       " 'absolute': 16491,\n",
       " 'visibility': 92915,\n",
       " 'visible': 92916,\n",
       " 'lime': 58534,\n",
       " 'id': 49828,\n",
       " 'layer3': 57685,\n",
       " '73px': 11259,\n",
       " '14px': 2334,\n",
       " '172px': 2616,\n",
       " 'olive': 67494,\n",
       " 'layer2': 57684,\n",
       " '39px': 6238,\n",
       " '13px': 2215,\n",
       " '149px': 2323,\n",
       " '239px': 4313,\n",
       " 'silver': 82142,\n",
       " 'layer1': 57683,\n",
       " 'óà': 102412,\n",
       " '¼þ': 101669,\n",
       " 'ª21êà¼o': 101444,\n",
       " 'îóðð': 102297,\n",
       " 'µäðû': 101532,\n",
       " '½ê½': 101696,\n",
       " 'äúïë': 101931,\n",
       " 'µø10èfèëí': 101556,\n",
       " 'ìöªµàäúµä': 102210,\n",
       " 'ì½ýµäðû': 102198,\n",
       " 'äúµäæó': 101927,\n",
       " 'äúïëôúéì': 101933,\n",
       " 'öð²½²½': 102537,\n",
       " 'ïè': 102312,\n",
       " 'äúïëò': 101932,\n",
       " 'íóð': 102246,\n",
       " 'ôúéì': 102488,\n",
       " 'ô½': 102472,\n",
       " 'íô½': 102248,\n",
       " 'àµäõ': 101750,\n",
       " '²é': 101468,\n",
       " 'íã': 102231,\n",
       " '¾wâ': 101712,\n",
       " 'än': 101894,\n",
       " 'þ³é': 102673,\n",
       " 'iän': 53549,\n",
       " '½ê½µäö': 101697,\n",
       " 'øe': 102560,\n",
       " 'êç¾wéï': 102138,\n",
       " 'î³': 102262,\n",
       " 'óãò²êç': 102420,\n",
       " 'óãµä¹': 102417,\n",
       " '¾ß': 101719,\n",
       " 'æäìøüc': 101976,\n",
       " 'º¹': 101609,\n",
       " 'rð': 79766,\n",
       " 'ñµí': 102348,\n",
       " 'þemarketer¹àó': 102665,\n",
       " 'ãà': 101872,\n",
       " 'øóð61': 102572,\n",
       " 'µäöðµèò': 101536,\n",
       " 'ë¾½': 102167,\n",
       " 'óãë': 102418,\n",
       " '¼þßmðð': 101672,\n",
       " 'æã½ówæ½¾ù': 101975,\n",
       " 'ªâê': 101455,\n",
       " 'èý': 102073,\n",
       " 'average': 21070,\n",
       " 'ranges': 76286,\n",
       " 'æõí': 101989,\n",
       " 'ºá': 101616,\n",
       " 'ù¹ã': 102597,\n",
       " 'banner': 22378,\n",
       " 'ads': 17283,\n",
       " 'ðå¼þ': 102325,\n",
       " 'direct': 34154,\n",
       " 'ff0080': 41239,\n",
       " '¼þ³öêû': 101670,\n",
       " 'ùiè': 102590,\n",
       " 'çòà': 102036,\n",
       " '¼þµøö': 101671,\n",
       " '1000èf': 1517,\n",
       " '500hk': 8936,\n",
       " '9000èf': 13587,\n",
       " '3600hk': 6040,\n",
       " 'ùiïã': 102591,\n",
       " 'ûà': 102626,\n",
       " '10èf': 1797,\n",
       " '400hk': 7841,\n",
       " 'ûè': 102627,\n",
       " '325èf': 5792,\n",
       " '5500hk': 9240,\n",
       " 'jjyx': 54384,\n",
       " 'serve': 81340,\n",
       " 'hk1': 47722,\n",
       " 'txt': 89332,\n",
       " 'target': 86349,\n",
       " '_blank': 14794,\n",
       " '21px': 3993,\n",
       " 'ff0000': 41235,\n",
       " 'download': 35152,\n",
       " 'ùiå_': 102589,\n",
       " '³à': 101494,\n",
       " '³è': 101496,\n",
       " '201èf': 3686,\n",
       " '4500hk': 8155,\n",
       " 'wd': 94717,\n",
       " 'taiwan': 86212,\n",
       " '0080ff': 269,\n",
       " 'lëí': 59975,\n",
       " 'æà': 101973,\n",
       " 'úàí': 102615,\n",
       " '20èfæð': 3892,\n",
       " '_âê90': 15350,\n",
       " 'òôéï': 102390,\n",
       " 'üöüèº': 102643,\n",
       " 'öü60èf': 102559,\n",
       " '2500hk': 4438,\n",
       " 'öü100èf': 102558,\n",
       " '4000hk': 7833,\n",
       " 'c¾wõ¾èõôl': 31832,\n",
       " 'ìáéý2000òôéï': 102202,\n",
       " 'üôâèº': 102642,\n",
       " 'ôâ500èf': 102478,\n",
       " '9500hk': 13791,\n",
       " 'ìáéý5000òôéï': 102203,\n",
       " 'ff8040': 41260,\n",
       " '¼þü': 101676,\n",
       " 'ów': 102397,\n",
       " 'span': 83450,\n",
       " 'lang': 57484,\n",
       " 'en': 38432,\n",
       " '9pt': 14429,\n",
       " '0000c4': 47,\n",
       " 'mso': 63439,\n",
       " 'fareast': 40696,\n",
       " 'family': 40651,\n",
       " 'pmingliu': 72174,\n",
       " 'language': 57500,\n",
       " 'zh': 100270,\n",
       " 'tw': 89224,\n",
       " '70': 11063,\n",
       " 'ascii': 20348,\n",
       " 'times': 87641,\n",
       " 'roman': 78896,\n",
       " 'hansi': 46634,\n",
       " 'ðnì': 102321,\n",
       " 'èº': 102055,\n",
       " 'ëñë': 102184,\n",
       " 'ñü': 102364,\n",
       " '2200': 3999,\n",
       " 'hk': 47720,\n",
       " '0000bf': 46,\n",
       " 'äã': 101908,\n",
       " 'ô¼º': 102470,\n",
       " 'íóðò': 102247,\n",
       " 'íêéæµäë': 102240,\n",
       " '¼þèº': 101673,\n",
       " 'ñïµ½y': 102360,\n",
       " 'óðòâõßçëà': 102447,\n",
       " 'ðåáªïµ': 102326,\n",
       " 'yhzx599': 98673,\n",
       " 'vip': 92844,\n",
       " 'sina': 82203,\n",
       " 'òýçæô': 102394,\n",
       " 'ôµçê': 102468,\n",
       " 'öµ': 102524,\n",
       " 'ìø': 102211,\n",
       " 'r2200': 75906,\n",
       " 'ãyºóö': 101861,\n",
       " 'ðç': 102328,\n",
       " 'íäúµçê': 102235,\n",
       " 'çò6000': 102033,\n",
       " 'îäëñë': 102280,\n",
       " 'òýçæ': 102393,\n",
       " 'ßm200': 101735,\n",
       " 'öðîäëñë': 102549,\n",
       " 'äãµä¾wõ¾ïí': 101909,\n",
       " 'uè': 91761,\n",
       " 'çò': 102032,\n",
       " 'mailµøö': 60451,\n",
       " 'ôú': 102484,\n",
       " 'µø': 101555,\n",
       " 'µä': 101522,\n",
       " 'µá': 101519,\n",
       " 'ïã': 102308,\n",
       " 'ª32525642': 101445,\n",
       " 'sample': 80193,\n",
       " 'å_': 101938,\n",
       " 'ª20012356': 101443,\n",
       " 'ª9000èf': 101446,\n",
       " 'èíâéï': 102066,\n",
       " 'óðð': 102445,\n",
       " 'µäemailî': 101523,\n",
       " 'ùyáï': 102592,\n",
       " 'éòô': 102118,\n",
       " 'ôµäðèòª': 102467,\n",
       " 'ôúö': 102490,\n",
       " 'µäµø': 101525,\n",
       " 'óò': 102451,\n",
       " 'ðð': 102337,\n",
       " 'iî': 53556,\n",
       " 'eµè': 40211,\n",
       " 'ùðôí': 102605,\n",
       " 'åë': 101956,\n",
       " 'èç': 102060,\n",
       " 'ºäãïë': 101618,\n",
       " 'ä³µø10èfèëò': 101900,\n",
       " 'ììö': 102207,\n",
       " '¼öªµàäãµä': 101660,\n",
       " 'aæ': 21585,\n",
       " 'ùyó': 102593,\n",
       " 'äç': 101915,\n",
       " '¼þí': 101674,\n",
       " 'å¾íêçäã': 101948,\n",
       " 'îºãµä½â': 102268,\n",
       " 'ëüµä': 102187,\n",
       " 'ñêçëùóð': 102358,\n",
       " 'ãº': 101864,\n",
       " 'ñöð': 102363,\n",
       " 'îµí': 102266,\n",
       " 'óöêç': 102458,\n",
       " 'cóöã': 31834,\n",
       " 'rã': 79741,\n",
       " '¼µè': 101645,\n",
       " 'ýöøäã': 102664,\n",
       " 'ò²ôsäãõýêçóãáëß': 102367,\n",
       " 'óµä': 102402,\n",
       " 'ãºêö': 101865,\n",
       " 'åáëëùóðµä': 101949,\n",
       " 'êö': 102148,\n",
       " 'ús': 102610,\n",
       " 'ìðð': 102209,\n",
       " 'äãµäæó': 101910,\n",
       " 'ë¾á': 102168,\n",
       " 'õæîõéì': 102506,\n",
       " 'ã½µäãüã': 101867,\n",
       " 'æe': 101967,\n",
       " 'êçæõí': 102140,\n",
       " 'än½': 101895,\n",
       " 'iëù²': 53554,\n",
       " 'äü': 101935,\n",
       " 'mµä': 64091,\n",
       " 'àm¼': 101741,\n",
       " '¾¹': 101717,\n",
       " 'ë¾': 102165,\n",
       " 'äêâ¾wâ': 101922,\n",
       " 'àäê': 101761,\n",
       " 'ðû': 102341,\n",
       " 'èî': 102067,\n",
       " '¾óöð': 101729,\n",
       " 'øµúëä': 102564,\n",
       " 'ó¾wâ': 102411,\n",
       " 'æéìö': 101981,\n",
       " 'îò': 102293,\n",
       " 'óð': 102438,\n",
       " 'étµä¼¼ðgèë': 102090,\n",
       " 'tºí': 89438,\n",
       " 'ßëù': 101737,\n",
       " 'iµä': 53546,\n",
       " 'õïµ½y': 102512,\n",
       " 'äêâ': 101921,\n",
       " 'ëí': 102180,\n",
       " 'iìá¹': 53555,\n",
       " 'îñ': 102292,\n",
       " '½ý': 101706,\n",
       " 'mòâµä': 64103,\n",
       " 'ðèçó': 102332,\n",
       " 'ôõ': 102483,\n",
       " 'üc': 102629,\n",
       " 'ôß': 102474,\n",
       " 'ñy': 102342,\n",
       " 'àmà': 101742,\n",
       " 'ïä': 102309,\n",
       " 'íðåõ': 102244,\n",
       " 'äúðèòªµä': 101934,\n",
       " 'õåcâ': 102502,\n",
       " 'àm': 101740,\n",
       " 'íäú': 102234,\n",
       " 'å_µø': 101939,\n",
       " 'èîºî': 102068,\n",
       " 'ø¼ò¾ù': 102566,\n",
       " 'éµ½': 102097,\n",
       " 'µøãyððë': 101558,\n",
       " '3ììµ½': 7823,\n",
       " 'ðèµ½': 102331,\n",
       " 'µøãyððþkàíë': 101559,\n",
       " 'english': 38599,\n",
       " 'benificiary': 23047,\n",
       " 'customer': 31476,\n",
       " 'wangjingjing': 94148,\n",
       " 'bank': 22360,\n",
       " 'china': 27993,\n",
       " 'mianyang': 61936,\n",
       " 'branch': 24868,\n",
       " '8209': 12183,\n",
       " '9802': 13918,\n",
       " '0003': 108,\n",
       " '158': 2428,\n",
       " 'tel': 86719,\n",
       " '0816': 788,\n",
       " '6623109': 10358,\n",
       " 'öðîä': 102546,\n",
       " 'õõ': 102513,\n",
       " 'êõ': 102147,\n",
       " 'èë': 102065,\n",
       " 'íõ¾': 102249,\n",
       " 'îãyðð': 102277,\n",
       " 'öð': 102536,\n",
       " 'øãyðð¾dê': 102568,\n",
       " 'öðð': 102552,\n",
       " 'îèëë': 102285,\n",
       " 'º0816': 101600,\n",
       " 'îµ½ááîò': 102265,\n",
       " 'äúìá¹': 101930,\n",
       " 'mòâ': 64102,\n",
       " 'gó': 46202,\n",
       " 'íðå': 102243,\n",
       " 'íë': 102241,\n",
       " 'öjô': 102516,\n",
       " 'º0086': 101598,\n",
       " 'ðç¾wâ': 102329,\n",
       " 'óðïþ¹': 102444,\n",
       " 'ë¾µøö': 102166,\n",
       " 'ºöð': 101637,\n",
       " 'óê': 102430,\n",
       " '¾dê': 101708,\n",
       " 'º¾wâ': 101613,\n",
       " 'íæ': 102236,\n",
       " '¾wõ¾½': 101714,\n",
       " 'ôo': 102465,\n",
       " 'ãû': 101891,\n",
       " '¾wí': 101713,\n",
       " '¼ä': 101651,\n",
       " 'µãû': 101521,\n",
       " 'õég': 102510,\n",
       " 'lõ¹µè': 59976,\n",
       " 'råxµíá': 79742,\n",
       " 'hr': 48373,\n",
       " 'secured': 81013,\n",
       " 'investements': 52590,\n",
       " '625': 10154,\n",
       " 'tbody': 86462,\n",
       " 'green': 45583,\n",
       " 'wealth': 94947,\n",
       " 'risk': 78497,\n",
       " 'black': 23893,\n",
       " 'discover': 34281,\n",
       " 'kept': 55828,\n",
       " 'secret': 80981,\n",
       " 'america': 18952,\n",
       " '006600': 249,\n",
       " '515': 9040,\n",
       " 'ccffcc': 27154,\n",
       " '99ff00': 14041,\n",
       " '339900': 5897,\n",
       " 'verdana': 92415,\n",
       " 'turning': 89147,\n",
       " '003300': 219,\n",
       " 'oklahoma': 67431,\n",
       " 'craig': 30889,\n",
       " 'talkington': 86263,\n",
       " 'purchased': 74124,\n",
       " 'tax': 86414,\n",
       " 'lien': 58434,\n",
       " 'acre': 16869,\n",
       " 'parcel': 69405,\n",
       " 'owner': 68714,\n",
       " 'failed': 40569,\n",
       " 'pay': 69685,\n",
       " 'taxes': 86419,\n",
       " 'forfeited': 42381,\n",
       " 'short': 81854,\n",
       " 'later': 57590,\n",
       " 'sold': 83121,\n",
       " 'property': 73540,\n",
       " 'neighbors': 64792,\n",
       " 'kind': 56137,\n",
       " 'money': 62840,\n",
       " 'buys': 25623,\n",
       " 'cars': 26860,\n",
       " 'sends': 81197,\n",
       " 'young': 99001,\n",
       " 'college': 29332,\n",
       " 'didn': 33961,\n",
       " 'stop': 84428,\n",
       " 'bought': 24659,\n",
       " '17': 2583,\n",
       " 'track': 88465,\n",
       " 'ended': 38505,\n",
       " 'know': 56461,\n",
       " 'making': 60533,\n",
       " 'kinds': 56146,\n",
       " 'profits': 73392,\n",
       " 'change': 27718,\n",
       " 'peoples': 70442,\n",
       " 'lives': 58784,\n",
       " 'solve': 83157,\n",
       " 'problems': 73279,\n",
       " 'make': 60515,\n",
       " 'lot': 59304,\n",
       " '000033': 29,\n",
       " 'janice': 53837,\n",
       " 'knetzger': 56424,\n",
       " 'turned': 89144,\n",
       " '463': 8217,\n",
       " '00': 0,\n",
       " 'investment': 52605,\n",
       " 'wayne': 94339,\n",
       " 'robertson': 78798,\n",
       " 'paid': 69203,\n",
       " 'todd': 88044,\n",
       " 'beemer': 22886,\n",
       " '21': 3894,\n",
       " '500': 8927,\n",
       " '150': 2340,\n",
       " '530': 9119,\n",
       " 'investors': 52610,\n",
       " 'entrepreneurs': 38757,\n",
       " 'consultantion': 30170,\n",
       " 'qualify': 75453,\n",
       " '250': 4434,\n",
       " '400': 7825,\n",
       " 'required': 77713,\n",
       " 'field': 41488,\n",
       " 'bordercolordark': 24585,\n",
       " '333300': 5866,\n",
       " '600': 10039,\n",
       " 'bordercolorlight': 24586,\n",
       " 'ffffcc': 41319,\n",
       " 'taxsale06': 86426,\n",
       " 'btamail': 25250,\n",
       " 'cn': 29033,\n",
       " 'investment_inquiry': 52606,\n",
       " 'enctype': 38491,\n",
       " 'select': 81106,\n",
       " '475': 8265,\n",
       " 'liens': 58435,\n",
       " 'deeds': 32898,\n",
       " 'directly': 34167,\n",
       " 'support': 85179,\n",
       " 'local': 59075,\n",
       " 'departments': 33231,\n",
       " 'police': 72338,\n",
       " 'schools': 80614,\n",
       " 'roads': 78769,\n",
       " 'hospitals': 48201,\n",
       " 'thank': 87162,\n",
       " 'removes': 77493,\n",
       " 'centralmailer': 27419,\n",
       " 'remove_investment': 77476,\n",
       " '4589dfsl1': 8185,\n",
       " '151rzeh9359iyoc9': 2375,\n",
       " '006fl29': 257,\n",
       " 'ffccff': 41287,\n",
       " 'free4pornlovers': 42778,\n",
       " 'simply': 82183,\n",
       " 'amateur': 18895,\n",
       " '990000': 13973,\n",
       " '660066': 10347,\n",
       " '9933ff': 13989,\n",
       " 'girl': 44713,\n",
       " 'door': 35041,\n",
       " 'xxx': 97882,\n",
       " 'tour': 88299,\n",
       " 'ff0099': 41240,\n",
       " 'photos': 71361,\n",
       " 'sneeky': 82928,\n",
       " 'cams': 26601,\n",
       " 'nude': 66215,\n",
       " 'exibitionists': 39815,\n",
       " 'cheating': 27848,\n",
       " 'wives': 95729,\n",
       " 'girlfriends': 44715,\n",
       " 'pl': 71889,\n",
       " 'generator': 44258,\n",
       " 'microsoft': 62003,\n",
       " 'frontpage': 43005,\n",
       " 'progid': 73406,\n",
       " 'editor': 37557,\n",
       " 'document': 34867,\n",
       " 'answer': 19413,\n",
       " 'link': 58601,\n",
       " 'vlink': 93067,\n",
       " '333399': 5870,\n",
       " 'alink': 18642,\n",
       " 'collapse': 29305,\n",
       " '425074': 8020,\n",
       " '586': 9389,\n",
       " 'autonumber1': 20991,\n",
       " '627': 10161,\n",
       " 'emails': 38248,\n",
       " 'redirect': 76972,\n",
       " '440': 8097,\n",
       " '390': 6184,\n",
       " 'noshade': 65849,\n",
       " '90': 13579,\n",
       " 'd76f3a': 32031,\n",
       " 'unlist': 90807,\n",
       " '78': 11460,\n",
       " '105': 1703,\n",
       " '304d71': 5624,\n",
       " 'brought': 25120,\n",
       " 'current': 31422,\n",
       " 'federal': 41079,\n",
       " 'newwin': 65091,\n",
       " 'receiving': 76794,\n",
       " 'registered': 77179,\n",
       " 'offers': 67168,\n",
       " 'marketing': 60798,\n",
       " 'partner': 69523,\n",
       " 'screening': 80748,\n",
       " 'addresses': 17113,\n",
       " 'knowledge': 56466,\n",
       " 'honor': 48096,\n",
       " 'requests': 77711,\n",
       " '72': 11179,\n",
       " 'hours': 48261,\n",
       " 'received': 76784,\n",
       " 'error': 39109,\n",
       " 'apologize': 19713,\n",
       " 'inconvenience': 51566,\n",
       " 'caused': 27013,\n",
       " 'unlisted': 90809,\n",
       " 'database': 32322,\n",
       " 'redirect2': 76973,\n",
       " 'forwarded': 42511,\n",
       " 'provide': 73660,\n",
       " 'old': 67460,\n",
       " '602': 10053,\n",
       " ...}"
      ]
     },
     "execution_count": 11,
     "metadata": {},
     "output_type": "execute_result"
    }
   ],
   "source": [
    "vectorizer.vocabulary_"
   ]
  },
  {
   "cell_type": "code",
   "execution_count": 12,
   "metadata": {},
   "outputs": [],
   "source": [
    "#Train,Test and Split\n",
    "X_train , X_test , y_train ,y_test = train_test_split(all_features , data.CATEGORY , \n",
    "                                                     test_size = 0.3 , random_state = 88)"
   ]
  },
  {
   "cell_type": "code",
   "execution_count": 13,
   "metadata": {},
   "outputs": [
    {
     "data": {
      "text/plain": [
       "(4057, 102694)"
      ]
     },
     "execution_count": 13,
     "metadata": {},
     "output_type": "execute_result"
    }
   ],
   "source": [
    "X_train.shape"
   ]
  },
  {
   "cell_type": "code",
   "execution_count": 14,
   "metadata": {},
   "outputs": [
    {
     "data": {
      "text/plain": [
       "(1739, 102694)"
      ]
     },
     "execution_count": 14,
     "metadata": {},
     "output_type": "execute_result"
    }
   ],
   "source": [
    "X_test.shape"
   ]
  },
  {
   "cell_type": "code",
   "execution_count": 15,
   "metadata": {},
   "outputs": [],
   "source": [
    "classifier = MultinomialNB()"
   ]
  },
  {
   "cell_type": "code",
   "execution_count": 43,
   "metadata": {},
   "outputs": [
    {
     "data": {
      "text/plain": [
       "MultinomialNB(alpha=1.0, class_prior=None, fit_prior=True)"
      ]
     },
     "execution_count": 43,
     "metadata": {},
     "output_type": "execute_result"
    }
   ],
   "source": [
    "classifier.fit(X_train , y_train)"
   ]
  },
  {
   "cell_type": "markdown",
   "metadata": {},
   "source": [
    "## Evaluation"
   ]
  },
  {
   "cell_type": "code",
   "execution_count": 17,
   "metadata": {},
   "outputs": [
    {
     "name": "stdout",
     "output_type": "stream",
     "text": [
      "1660 are the correctly classified documents\n"
     ]
    }
   ],
   "source": [
    "#The Number of documents classified correctly\n",
    "num_correct = (y_test == classifier.predict(X_test)).sum()\n",
    "print(f'{num_correct} are the correctly classified documents')"
   ]
  },
  {
   "cell_type": "code",
   "execution_count": 18,
   "metadata": {},
   "outputs": [
    {
     "name": "stdout",
     "output_type": "stream",
     "text": [
      "79 are the incorrectly classified documents\n"
     ]
    }
   ],
   "source": [
    "#The number of documents classified incorrectly\n",
    "num_incorrect = y_test.size - num_correct\n",
    "print(f'{num_incorrect} are the incorrectly classified documents')"
   ]
  },
  {
   "cell_type": "code",
   "execution_count": 19,
   "metadata": {},
   "outputs": [
    {
     "name": "stdout",
     "output_type": "stream",
     "text": [
      "The accuracy of the model is 95.46%\n"
     ]
    }
   ],
   "source": [
    "fraction_wrong = num_incorrect / (num_correct + num_incorrect)\n",
    "print(f'The accuracy of the model is {(1-fraction_wrong):.2%}')"
   ]
  },
  {
   "cell_type": "code",
   "execution_count": 20,
   "metadata": {},
   "outputs": [
    {
     "name": "stdout",
     "output_type": "stream",
     "text": [
      "The accuracy of model is 95.46%\n"
     ]
    }
   ],
   "source": [
    "accuracy = num_correct / y_test.size\n",
    "print(f'The accuracy of model is {accuracy:.2%}')"
   ]
  },
  {
   "cell_type": "code",
   "execution_count": 21,
   "metadata": {},
   "outputs": [
    {
     "data": {
      "text/plain": [
       "0.9545715928694652"
      ]
     },
     "execution_count": 21,
     "metadata": {},
     "output_type": "execute_result"
    }
   ],
   "source": [
    "classifier.score(X_test , y_test)"
   ]
  },
  {
   "cell_type": "code",
   "execution_count": 22,
   "metadata": {},
   "outputs": [],
   "source": [
    "predict = classifier.predict(X_test)"
   ]
  },
  {
   "cell_type": "code",
   "execution_count": 23,
   "metadata": {},
   "outputs": [
    {
     "data": {
      "image/png": "[encoded data removed]",
      "text/plain": [
       "<Figure size 576x432 with 2 Axes>"
      ]
     },
     "metadata": {
      "needs_background": "light"
     },
     "output_type": "display_data"
    }
   ],
   "source": [
    "cm = confusion_matrix(y_test , predict , [1,0])\n",
    "plt.figure(figsize=(8,6))\n",
    "sn.heatmap(cm , annot = True , fmt ='.2f',xticklabels=['Non-spam' , 'Spam'] ,\n",
    "           yticklabels=['Non-Spam', 'Spam'])\n",
    "plt.show()"
   ]
  },
  {
   "cell_type": "code",
   "execution_count": 24,
   "metadata": {},
   "outputs": [
    {
     "name": "stdout",
     "output_type": "stream",
     "text": [
      "              precision    recall  f1-score   support\n",
      "\n",
      "           0       0.94      1.00      0.97      1185\n",
      "           1       0.99      0.86      0.92       554\n",
      "\n",
      "    accuracy                           0.95      1739\n",
      "   macro avg       0.97      0.93      0.95      1739\n",
      "weighted avg       0.96      0.95      0.95      1739\n",
      "\n"
     ]
    }
   ],
   "source": [
    "print(classification_report(y_test,predict))"
   ]
  },
  {
   "cell_type": "code",
   "execution_count": 25,
   "metadata": {},
   "outputs": [
    {
     "data": {
      "text/plain": [
       "0.8646209386281588"
      ]
     },
     "execution_count": 25,
     "metadata": {},
     "output_type": "execute_result"
    }
   ],
   "source": [
    "#recall score\n",
    "recall_score(y_test , classifier.predict(X_test))"
   ]
  },
  {
   "cell_type": "code",
   "execution_count": 26,
   "metadata": {},
   "outputs": [
    {
     "data": {
      "text/plain": [
       "0.9917184265010351"
      ]
     },
     "execution_count": 26,
     "metadata": {},
     "output_type": "execute_result"
    }
   ],
   "source": [
    "#precision score\n",
    "precision_score(y_test , classifier.predict(X_test))"
   ]
  },
  {
   "cell_type": "code",
   "execution_count": 27,
   "metadata": {},
   "outputs": [
    {
     "data": {
      "text/plain": [
       "0.9238187078109932"
      ]
     },
     "execution_count": 27,
     "metadata": {},
     "output_type": "execute_result"
    }
   ],
   "source": [
    "#f-1 score\n",
    "f1_score(y_test , classifier.predict(X_test))"
   ]
  },
  {
   "cell_type": "code",
   "execution_count": 28,
   "metadata": {},
   "outputs": [],
   "source": [
    "auc = roc_auc_score(y_test,predict)"
   ]
  },
  {
   "cell_type": "code",
   "execution_count": 29,
   "metadata": {},
   "outputs": [
    {
     "data": {
      "image/png": "[encoded data removed]",
      "text/plain": [
       "<Figure size 432x288 with 1 Axes>"
      ]
     },
     "metadata": {
      "needs_background": "light"
     },
     "output_type": "display_data"
    }
   ],
   "source": [
    "fpr , tpr , threshold = roc_curve(y_test,predict)\n",
    "\n",
    "plt.plot(tpr,fpr,label='ROC curve (area=%0.2f)'%auc)\n",
    "plt.plot([0,1],[0,1],'k--')\n",
    "plt.legend(loc='lower right')\n",
    "plt.xlim([0.0,1.0])\n",
    "plt.ylim([-0.05,1.05])\n",
    "plt.ylabel('True Positive Rate(Sensitivity)')\n",
    "plt.xlabel('False Positive Rate(1-Specificity)')\n",
    "plt.show()"
   ]
  },
  {
   "cell_type": "markdown",
   "metadata": {},
   "source": [
    "## KNN Algorithm\n"
   ]
  },
  {
   "cell_type": "code",
   "execution_count": 30,
   "metadata": {},
   "outputs": [],
   "source": [
    "from sklearn.neighbors import KNeighborsClassifier\n",
    "from sklearn.model_selection import GridSearchCV"
   ]
  },
  {
   "cell_type": "code",
   "execution_count": 31,
   "metadata": {},
   "outputs": [
    {
     "data": {
      "text/plain": [
       "KNeighborsClassifier(algorithm='auto', leaf_size=30, metric='minkowski',\n",
       "                     metric_params=None, n_jobs=None, n_neighbors=5, p=2,\n",
       "                     weights='uniform')"
      ]
     },
     "execution_count": 31,
     "metadata": {},
     "output_type": "execute_result"
    }
   ],
   "source": [
    "klf = KNeighborsClassifier()\n",
    "klf.fit(X_train , y_train)"
   ]
  },
  {
   "cell_type": "code",
   "execution_count": 48,
   "metadata": {},
   "outputs": [
    {
     "data": {
      "image/png": "[encoded data removed]",
      "text/plain": [
       "<Figure size 432x288 with 1 Axes>"
      ]
     },
     "metadata": {
      "needs_background": "light"
     },
     "output_type": "display_data"
    }
   ],
   "source": [
    "predict_knn = klf.predict(X_test)\n",
    "auc_knn =roc_auc_score(y_test , predict_knn)\n",
    "fpr_1 , tpr_1 , threshold_1 = roc_curve(y_test , predict_knn)\n",
    "plt.plot(tpr, fpr , label =\"ROC(area= %0.2f)\"%auc_knn )\n",
    "plt.plot([1,0],[1,0] , 'k--')\n",
    "plt.legend()\n",
    "plt.show()"
   ]
  },
  {
   "cell_type": "code",
   "execution_count": 33,
   "metadata": {},
   "outputs": [
    {
     "data": {
      "image/png": "[encoded data removed]",
      "text/plain": [
       "<Figure size 576x432 with 2 Axes>"
      ]
     },
     "metadata": {
      "needs_background": "light"
     },
     "output_type": "display_data"
    }
   ],
   "source": [
    "conf = confusion_matrix(y_test,predict_knn,[1,0])\n",
    "plt.figure(figsize=(8,6))\n",
    "sn.heatmap(conf,annot=True , fmt='.2f' ,xticklabels=['Non-spam' , 'Spam'] ,\n",
    "           yticklabels=['Non-Spam', 'Spam'])\n",
    "plt.show()"
   ]
  },
  {
   "cell_type": "markdown",
   "metadata": {},
   "source": [
    "### Grid search CV for optimum hyperparameters"
   ]
  },
  {
   "cell_type": "code",
   "execution_count": 34,
   "metadata": {},
   "outputs": [],
   "source": [
    "tuned_params = [{'n_neighbors':range(5,10) , 'metric':['canberra' , 'euclidean' ,'minkowski']}]\n",
    "\n",
    "grid_search = GridSearchCV(KNeighborsClassifier(),tuned_params , cv=10 , scoring='roc_auc')"
   ]
  },
  {
   "cell_type": "code",
   "execution_count": 35,
   "metadata": {},
   "outputs": [
    {
     "name": "stderr",
     "output_type": "stream",
     "text": [
      "C:\\Users\\Nandushreyas\\anaconda3\\envs\\Python\\lib\\site-packages\\sklearn\\model_selection\\_validation.py:536: FitFailedWarning: Estimator fit failed. The score on this train-test partition for these parameters will be set to nan. Details: \n",
      "ValueError: Metric 'canberra' not valid for sparse input. Use sorted(sklearn.neighbors.VALID_METRICS_SPARSE['brute']) to get valid options. Metric can also be a callable function.\n",
      "\n",
      "  FitFailedWarning)\n",
      "C:\\Users\\Nandushreyas\\anaconda3\\envs\\Python\\lib\\site-packages\\sklearn\\model_selection\\_validation.py:536: FitFailedWarning: Estimator fit failed. The score on this train-test partition for these parameters will be set to nan. Details: \n",
      "ValueError: Metric 'canberra' not valid for sparse input. Use sorted(sklearn.neighbors.VALID_METRICS_SPARSE['brute']) to get valid options. Metric can also be a callable function.\n",
      "\n",
      "  FitFailedWarning)\n",
      "C:\\Users\\Nandushreyas\\anaconda3\\envs\\Python\\lib\\site-packages\\sklearn\\model_selection\\_validation.py:536: FitFailedWarning: Estimator fit failed. The score on this train-test partition for these parameters will be set to nan. Details: \n",
      "ValueError: Metric 'canberra' not valid for sparse input. Use sorted(sklearn.neighbors.VALID_METRICS_SPARSE['brute']) to get valid options. Metric can also be a callable function.\n",
      "\n",
      "  FitFailedWarning)\n",
      "C:\\Users\\Nandushreyas\\anaconda3\\envs\\Python\\lib\\site-packages\\sklearn\\model_selection\\_validation.py:536: FitFailedWarning: Estimator fit failed. The score on this train-test partition for these parameters will be set to nan. Details: \n",
      "ValueError: Metric 'canberra' not valid for sparse input. Use sorted(sklearn.neighbors.VALID_METRICS_SPARSE['brute']) to get valid options. Metric can also be a callable function.\n",
      "\n",
      "  FitFailedWarning)\n",
      "C:\\Users\\Nandushreyas\\anaconda3\\envs\\Python\\lib\\site-packages\\sklearn\\model_selection\\_validation.py:536: FitFailedWarning: Estimator fit failed. The score on this train-test partition for these parameters will be set to nan. Details: \n",
      "ValueError: Metric 'canberra' not valid for sparse input. Use sorted(sklearn.neighbors.VALID_METRICS_SPARSE['brute']) to get valid options. Metric can also be a callable function.\n",
      "\n",
      "  FitFailedWarning)\n",
      "C:\\Users\\Nandushreyas\\anaconda3\\envs\\Python\\lib\\site-packages\\sklearn\\model_selection\\_validation.py:536: FitFailedWarning: Estimator fit failed. The score on this train-test partition for these parameters will be set to nan. Details: \n",
      "ValueError: Metric 'canberra' not valid for sparse input. Use sorted(sklearn.neighbors.VALID_METRICS_SPARSE['brute']) to get valid options. Metric can also be a callable function.\n",
      "\n",
      "  FitFailedWarning)\n",
      "C:\\Users\\Nandushreyas\\anaconda3\\envs\\Python\\lib\\site-packages\\sklearn\\model_selection\\_validation.py:536: FitFailedWarning: Estimator fit failed. The score on this train-test partition for these parameters will be set to nan. Details: \n",
      "ValueError: Metric 'canberra' not valid for sparse input. Use sorted(sklearn.neighbors.VALID_METRICS_SPARSE['brute']) to get valid options. Metric can also be a callable function.\n",
      "\n",
      "  FitFailedWarning)\n",
      "C:\\Users\\Nandushreyas\\anaconda3\\envs\\Python\\lib\\site-packages\\sklearn\\model_selection\\_validation.py:536: FitFailedWarning: Estimator fit failed. The score on this train-test partition for these parameters will be set to nan. Details: \n",
      "ValueError: Metric 'canberra' not valid for sparse input. Use sorted(sklearn.neighbors.VALID_METRICS_SPARSE['brute']) to get valid options. Metric can also be a callable function.\n",
      "\n",
      "  FitFailedWarning)\n",
      "C:\\Users\\Nandushreyas\\anaconda3\\envs\\Python\\lib\\site-packages\\sklearn\\model_selection\\_validation.py:536: FitFailedWarning: Estimator fit failed. The score on this train-test partition for these parameters will be set to nan. Details: \n",
      "ValueError: Metric 'canberra' not valid for sparse input. Use sorted(sklearn.neighbors.VALID_METRICS_SPARSE['brute']) to get valid options. Metric can also be a callable function.\n",
      "\n",
      "  FitFailedWarning)\n",
      "C:\\Users\\Nandushreyas\\anaconda3\\envs\\Python\\lib\\site-packages\\sklearn\\model_selection\\_validation.py:536: FitFailedWarning: Estimator fit failed. The score on this train-test partition for these parameters will be set to nan. Details: \n",
      "ValueError: Metric 'canberra' not valid for sparse input. Use sorted(sklearn.neighbors.VALID_METRICS_SPARSE['brute']) to get valid options. Metric can also be a callable function.\n",
      "\n",
      "  FitFailedWarning)\n",
      "C:\\Users\\Nandushreyas\\anaconda3\\envs\\Python\\lib\\site-packages\\sklearn\\model_selection\\_validation.py:536: FitFailedWarning: Estimator fit failed. The score on this train-test partition for these parameters will be set to nan. Details: \n",
      "ValueError: Metric 'canberra' not valid for sparse input. Use sorted(sklearn.neighbors.VALID_METRICS_SPARSE['brute']) to get valid options. Metric can also be a callable function.\n",
      "\n",
      "  FitFailedWarning)\n",
      "C:\\Users\\Nandushreyas\\anaconda3\\envs\\Python\\lib\\site-packages\\sklearn\\model_selection\\_validation.py:536: FitFailedWarning: Estimator fit failed. The score on this train-test partition for these parameters will be set to nan. Details: \n",
      "ValueError: Metric 'canberra' not valid for sparse input. Use sorted(sklearn.neighbors.VALID_METRICS_SPARSE['brute']) to get valid options. Metric can also be a callable function.\n",
      "\n",
      "  FitFailedWarning)\n",
      "C:\\Users\\Nandushreyas\\anaconda3\\envs\\Python\\lib\\site-packages\\sklearn\\model_selection\\_validation.py:536: FitFailedWarning: Estimator fit failed. The score on this train-test partition for these parameters will be set to nan. Details: \n",
      "ValueError: Metric 'canberra' not valid for sparse input. Use sorted(sklearn.neighbors.VALID_METRICS_SPARSE['brute']) to get valid options. Metric can also be a callable function.\n",
      "\n",
      "  FitFailedWarning)\n",
      "C:\\Users\\Nandushreyas\\anaconda3\\envs\\Python\\lib\\site-packages\\sklearn\\model_selection\\_validation.py:536: FitFailedWarning: Estimator fit failed. The score on this train-test partition for these parameters will be set to nan. Details: \n",
      "ValueError: Metric 'canberra' not valid for sparse input. Use sorted(sklearn.neighbors.VALID_METRICS_SPARSE['brute']) to get valid options. Metric can also be a callable function.\n",
      "\n",
      "  FitFailedWarning)\n",
      "C:\\Users\\Nandushreyas\\anaconda3\\envs\\Python\\lib\\site-packages\\sklearn\\model_selection\\_validation.py:536: FitFailedWarning: Estimator fit failed. The score on this train-test partition for these parameters will be set to nan. Details: \n",
      "ValueError: Metric 'canberra' not valid for sparse input. Use sorted(sklearn.neighbors.VALID_METRICS_SPARSE['brute']) to get valid options. Metric can also be a callable function.\n",
      "\n",
      "  FitFailedWarning)\n",
      "C:\\Users\\Nandushreyas\\anaconda3\\envs\\Python\\lib\\site-packages\\sklearn\\model_selection\\_validation.py:536: FitFailedWarning: Estimator fit failed. The score on this train-test partition for these parameters will be set to nan. Details: \n",
      "ValueError: Metric 'canberra' not valid for sparse input. Use sorted(sklearn.neighbors.VALID_METRICS_SPARSE['brute']) to get valid options. Metric can also be a callable function.\n",
      "\n",
      "  FitFailedWarning)\n",
      "C:\\Users\\Nandushreyas\\anaconda3\\envs\\Python\\lib\\site-packages\\sklearn\\model_selection\\_validation.py:536: FitFailedWarning: Estimator fit failed. The score on this train-test partition for these parameters will be set to nan. Details: \n",
      "ValueError: Metric 'canberra' not valid for sparse input. Use sorted(sklearn.neighbors.VALID_METRICS_SPARSE['brute']) to get valid options. Metric can also be a callable function.\n",
      "\n",
      "  FitFailedWarning)\n",
      "C:\\Users\\Nandushreyas\\anaconda3\\envs\\Python\\lib\\site-packages\\sklearn\\model_selection\\_validation.py:536: FitFailedWarning: Estimator fit failed. The score on this train-test partition for these parameters will be set to nan. Details: \n",
      "ValueError: Metric 'canberra' not valid for sparse input. Use sorted(sklearn.neighbors.VALID_METRICS_SPARSE['brute']) to get valid options. Metric can also be a callable function.\n",
      "\n",
      "  FitFailedWarning)\n",
      "C:\\Users\\Nandushreyas\\anaconda3\\envs\\Python\\lib\\site-packages\\sklearn\\model_selection\\_validation.py:536: FitFailedWarning: Estimator fit failed. The score on this train-test partition for these parameters will be set to nan. Details: \n",
      "ValueError: Metric 'canberra' not valid for sparse input. Use sorted(sklearn.neighbors.VALID_METRICS_SPARSE['brute']) to get valid options. Metric can also be a callable function.\n",
      "\n",
      "  FitFailedWarning)\n",
      "C:\\Users\\Nandushreyas\\anaconda3\\envs\\Python\\lib\\site-packages\\sklearn\\model_selection\\_validation.py:536: FitFailedWarning: Estimator fit failed. The score on this train-test partition for these parameters will be set to nan. Details: \n",
      "ValueError: Metric 'canberra' not valid for sparse input. Use sorted(sklearn.neighbors.VALID_METRICS_SPARSE['brute']) to get valid options. Metric can also be a callable function.\n",
      "\n",
      "  FitFailedWarning)\n",
      "C:\\Users\\Nandushreyas\\anaconda3\\envs\\Python\\lib\\site-packages\\sklearn\\model_selection\\_validation.py:536: FitFailedWarning: Estimator fit failed. The score on this train-test partition for these parameters will be set to nan. Details: \n",
      "ValueError: Metric 'canberra' not valid for sparse input. Use sorted(sklearn.neighbors.VALID_METRICS_SPARSE['brute']) to get valid options. Metric can also be a callable function.\n",
      "\n",
      "  FitFailedWarning)\n",
      "C:\\Users\\Nandushreyas\\anaconda3\\envs\\Python\\lib\\site-packages\\sklearn\\model_selection\\_validation.py:536: FitFailedWarning: Estimator fit failed. The score on this train-test partition for these parameters will be set to nan. Details: \n",
      "ValueError: Metric 'canberra' not valid for sparse input. Use sorted(sklearn.neighbors.VALID_METRICS_SPARSE['brute']) to get valid options. Metric can also be a callable function.\n",
      "\n",
      "  FitFailedWarning)\n",
      "C:\\Users\\Nandushreyas\\anaconda3\\envs\\Python\\lib\\site-packages\\sklearn\\model_selection\\_validation.py:536: FitFailedWarning: Estimator fit failed. The score on this train-test partition for these parameters will be set to nan. Details: \n",
      "ValueError: Metric 'canberra' not valid for sparse input. Use sorted(sklearn.neighbors.VALID_METRICS_SPARSE['brute']) to get valid options. Metric can also be a callable function.\n",
      "\n",
      "  FitFailedWarning)\n"
     ]
    },
    {
     "name": "stderr",
     "output_type": "stream",
     "text": [
      "C:\\Users\\Nandushreyas\\anaconda3\\envs\\Python\\lib\\site-packages\\sklearn\\model_selection\\_validation.py:536: FitFailedWarning: Estimator fit failed. The score on this train-test partition for these parameters will be set to nan. Details: \n",
      "ValueError: Metric 'canberra' not valid for sparse input. Use sorted(sklearn.neighbors.VALID_METRICS_SPARSE['brute']) to get valid options. Metric can also be a callable function.\n",
      "\n",
      "  FitFailedWarning)\n",
      "C:\\Users\\Nandushreyas\\anaconda3\\envs\\Python\\lib\\site-packages\\sklearn\\model_selection\\_validation.py:536: FitFailedWarning: Estimator fit failed. The score on this train-test partition for these parameters will be set to nan. Details: \n",
      "ValueError: Metric 'canberra' not valid for sparse input. Use sorted(sklearn.neighbors.VALID_METRICS_SPARSE['brute']) to get valid options. Metric can also be a callable function.\n",
      "\n",
      "  FitFailedWarning)\n",
      "C:\\Users\\Nandushreyas\\anaconda3\\envs\\Python\\lib\\site-packages\\sklearn\\model_selection\\_validation.py:536: FitFailedWarning: Estimator fit failed. The score on this train-test partition for these parameters will be set to nan. Details: \n",
      "ValueError: Metric 'canberra' not valid for sparse input. Use sorted(sklearn.neighbors.VALID_METRICS_SPARSE['brute']) to get valid options. Metric can also be a callable function.\n",
      "\n",
      "  FitFailedWarning)\n",
      "C:\\Users\\Nandushreyas\\anaconda3\\envs\\Python\\lib\\site-packages\\sklearn\\model_selection\\_validation.py:536: FitFailedWarning: Estimator fit failed. The score on this train-test partition for these parameters will be set to nan. Details: \n",
      "ValueError: Metric 'canberra' not valid for sparse input. Use sorted(sklearn.neighbors.VALID_METRICS_SPARSE['brute']) to get valid options. Metric can also be a callable function.\n",
      "\n",
      "  FitFailedWarning)\n",
      "C:\\Users\\Nandushreyas\\anaconda3\\envs\\Python\\lib\\site-packages\\sklearn\\model_selection\\_validation.py:536: FitFailedWarning: Estimator fit failed. The score on this train-test partition for these parameters will be set to nan. Details: \n",
      "ValueError: Metric 'canberra' not valid for sparse input. Use sorted(sklearn.neighbors.VALID_METRICS_SPARSE['brute']) to get valid options. Metric can also be a callable function.\n",
      "\n",
      "  FitFailedWarning)\n",
      "C:\\Users\\Nandushreyas\\anaconda3\\envs\\Python\\lib\\site-packages\\sklearn\\model_selection\\_validation.py:536: FitFailedWarning: Estimator fit failed. The score on this train-test partition for these parameters will be set to nan. Details: \n",
      "ValueError: Metric 'canberra' not valid for sparse input. Use sorted(sklearn.neighbors.VALID_METRICS_SPARSE['brute']) to get valid options. Metric can also be a callable function.\n",
      "\n",
      "  FitFailedWarning)\n",
      "C:\\Users\\Nandushreyas\\anaconda3\\envs\\Python\\lib\\site-packages\\sklearn\\model_selection\\_validation.py:536: FitFailedWarning: Estimator fit failed. The score on this train-test partition for these parameters will be set to nan. Details: \n",
      "ValueError: Metric 'canberra' not valid for sparse input. Use sorted(sklearn.neighbors.VALID_METRICS_SPARSE['brute']) to get valid options. Metric can also be a callable function.\n",
      "\n",
      "  FitFailedWarning)\n",
      "C:\\Users\\Nandushreyas\\anaconda3\\envs\\Python\\lib\\site-packages\\sklearn\\model_selection\\_validation.py:536: FitFailedWarning: Estimator fit failed. The score on this train-test partition for these parameters will be set to nan. Details: \n",
      "ValueError: Metric 'canberra' not valid for sparse input. Use sorted(sklearn.neighbors.VALID_METRICS_SPARSE['brute']) to get valid options. Metric can also be a callable function.\n",
      "\n",
      "  FitFailedWarning)\n",
      "C:\\Users\\Nandushreyas\\anaconda3\\envs\\Python\\lib\\site-packages\\sklearn\\model_selection\\_validation.py:536: FitFailedWarning: Estimator fit failed. The score on this train-test partition for these parameters will be set to nan. Details: \n",
      "ValueError: Metric 'canberra' not valid for sparse input. Use sorted(sklearn.neighbors.VALID_METRICS_SPARSE['brute']) to get valid options. Metric can also be a callable function.\n",
      "\n",
      "  FitFailedWarning)\n",
      "C:\\Users\\Nandushreyas\\anaconda3\\envs\\Python\\lib\\site-packages\\sklearn\\model_selection\\_validation.py:536: FitFailedWarning: Estimator fit failed. The score on this train-test partition for these parameters will be set to nan. Details: \n",
      "ValueError: Metric 'canberra' not valid for sparse input. Use sorted(sklearn.neighbors.VALID_METRICS_SPARSE['brute']) to get valid options. Metric can also be a callable function.\n",
      "\n",
      "  FitFailedWarning)\n",
      "C:\\Users\\Nandushreyas\\anaconda3\\envs\\Python\\lib\\site-packages\\sklearn\\model_selection\\_validation.py:536: FitFailedWarning: Estimator fit failed. The score on this train-test partition for these parameters will be set to nan. Details: \n",
      "ValueError: Metric 'canberra' not valid for sparse input. Use sorted(sklearn.neighbors.VALID_METRICS_SPARSE['brute']) to get valid options. Metric can also be a callable function.\n",
      "\n",
      "  FitFailedWarning)\n",
      "C:\\Users\\Nandushreyas\\anaconda3\\envs\\Python\\lib\\site-packages\\sklearn\\model_selection\\_validation.py:536: FitFailedWarning: Estimator fit failed. The score on this train-test partition for these parameters will be set to nan. Details: \n",
      "ValueError: Metric 'canberra' not valid for sparse input. Use sorted(sklearn.neighbors.VALID_METRICS_SPARSE['brute']) to get valid options. Metric can also be a callable function.\n",
      "\n",
      "  FitFailedWarning)\n",
      "C:\\Users\\Nandushreyas\\anaconda3\\envs\\Python\\lib\\site-packages\\sklearn\\model_selection\\_validation.py:536: FitFailedWarning: Estimator fit failed. The score on this train-test partition for these parameters will be set to nan. Details: \n",
      "ValueError: Metric 'canberra' not valid for sparse input. Use sorted(sklearn.neighbors.VALID_METRICS_SPARSE['brute']) to get valid options. Metric can also be a callable function.\n",
      "\n",
      "  FitFailedWarning)\n",
      "C:\\Users\\Nandushreyas\\anaconda3\\envs\\Python\\lib\\site-packages\\sklearn\\model_selection\\_validation.py:536: FitFailedWarning: Estimator fit failed. The score on this train-test partition for these parameters will be set to nan. Details: \n",
      "ValueError: Metric 'canberra' not valid for sparse input. Use sorted(sklearn.neighbors.VALID_METRICS_SPARSE['brute']) to get valid options. Metric can also be a callable function.\n",
      "\n",
      "  FitFailedWarning)\n",
      "C:\\Users\\Nandushreyas\\anaconda3\\envs\\Python\\lib\\site-packages\\sklearn\\model_selection\\_validation.py:536: FitFailedWarning: Estimator fit failed. The score on this train-test partition for these parameters will be set to nan. Details: \n",
      "ValueError: Metric 'canberra' not valid for sparse input. Use sorted(sklearn.neighbors.VALID_METRICS_SPARSE['brute']) to get valid options. Metric can also be a callable function.\n",
      "\n",
      "  FitFailedWarning)\n",
      "C:\\Users\\Nandushreyas\\anaconda3\\envs\\Python\\lib\\site-packages\\sklearn\\model_selection\\_validation.py:536: FitFailedWarning: Estimator fit failed. The score on this train-test partition for these parameters will be set to nan. Details: \n",
      "ValueError: Metric 'canberra' not valid for sparse input. Use sorted(sklearn.neighbors.VALID_METRICS_SPARSE['brute']) to get valid options. Metric can also be a callable function.\n",
      "\n",
      "  FitFailedWarning)\n",
      "C:\\Users\\Nandushreyas\\anaconda3\\envs\\Python\\lib\\site-packages\\sklearn\\model_selection\\_validation.py:536: FitFailedWarning: Estimator fit failed. The score on this train-test partition for these parameters will be set to nan. Details: \n",
      "ValueError: Metric 'canberra' not valid for sparse input. Use sorted(sklearn.neighbors.VALID_METRICS_SPARSE['brute']) to get valid options. Metric can also be a callable function.\n",
      "\n",
      "  FitFailedWarning)\n",
      "C:\\Users\\Nandushreyas\\anaconda3\\envs\\Python\\lib\\site-packages\\sklearn\\model_selection\\_validation.py:536: FitFailedWarning: Estimator fit failed. The score on this train-test partition for these parameters will be set to nan. Details: \n",
      "ValueError: Metric 'canberra' not valid for sparse input. Use sorted(sklearn.neighbors.VALID_METRICS_SPARSE['brute']) to get valid options. Metric can also be a callable function.\n",
      "\n",
      "  FitFailedWarning)\n",
      "C:\\Users\\Nandushreyas\\anaconda3\\envs\\Python\\lib\\site-packages\\sklearn\\model_selection\\_validation.py:536: FitFailedWarning: Estimator fit failed. The score on this train-test partition for these parameters will be set to nan. Details: \n",
      "ValueError: Metric 'canberra' not valid for sparse input. Use sorted(sklearn.neighbors.VALID_METRICS_SPARSE['brute']) to get valid options. Metric can also be a callable function.\n",
      "\n",
      "  FitFailedWarning)\n",
      "C:\\Users\\Nandushreyas\\anaconda3\\envs\\Python\\lib\\site-packages\\sklearn\\model_selection\\_validation.py:536: FitFailedWarning: Estimator fit failed. The score on this train-test partition for these parameters will be set to nan. Details: \n",
      "ValueError: Metric 'canberra' not valid for sparse input. Use sorted(sklearn.neighbors.VALID_METRICS_SPARSE['brute']) to get valid options. Metric can also be a callable function.\n",
      "\n",
      "  FitFailedWarning)\n",
      "C:\\Users\\Nandushreyas\\anaconda3\\envs\\Python\\lib\\site-packages\\sklearn\\model_selection\\_validation.py:536: FitFailedWarning: Estimator fit failed. The score on this train-test partition for these parameters will be set to nan. Details: \n",
      "ValueError: Metric 'canberra' not valid for sparse input. Use sorted(sklearn.neighbors.VALID_METRICS_SPARSE['brute']) to get valid options. Metric can also be a callable function.\n",
      "\n",
      "  FitFailedWarning)\n",
      "C:\\Users\\Nandushreyas\\anaconda3\\envs\\Python\\lib\\site-packages\\sklearn\\model_selection\\_validation.py:536: FitFailedWarning: Estimator fit failed. The score on this train-test partition for these parameters will be set to nan. Details: \n",
      "ValueError: Metric 'canberra' not valid for sparse input. Use sorted(sklearn.neighbors.VALID_METRICS_SPARSE['brute']) to get valid options. Metric can also be a callable function.\n",
      "\n",
      "  FitFailedWarning)\n",
      "C:\\Users\\Nandushreyas\\anaconda3\\envs\\Python\\lib\\site-packages\\sklearn\\model_selection\\_validation.py:536: FitFailedWarning: Estimator fit failed. The score on this train-test partition for these parameters will be set to nan. Details: \n",
      "ValueError: Metric 'canberra' not valid for sparse input. Use sorted(sklearn.neighbors.VALID_METRICS_SPARSE['brute']) to get valid options. Metric can also be a callable function.\n",
      "\n",
      "  FitFailedWarning)\n",
      "C:\\Users\\Nandushreyas\\anaconda3\\envs\\Python\\lib\\site-packages\\sklearn\\model_selection\\_validation.py:536: FitFailedWarning: Estimator fit failed. The score on this train-test partition for these parameters will be set to nan. Details: \n",
      "ValueError: Metric 'canberra' not valid for sparse input. Use sorted(sklearn.neighbors.VALID_METRICS_SPARSE['brute']) to get valid options. Metric can also be a callable function.\n",
      "\n",
      "  FitFailedWarning)\n",
      "C:\\Users\\Nandushreyas\\anaconda3\\envs\\Python\\lib\\site-packages\\sklearn\\model_selection\\_validation.py:536: FitFailedWarning: Estimator fit failed. The score on this train-test partition for these parameters will be set to nan. Details: \n",
      "ValueError: Metric 'canberra' not valid for sparse input. Use sorted(sklearn.neighbors.VALID_METRICS_SPARSE['brute']) to get valid options. Metric can also be a callable function.\n",
      "\n",
      "  FitFailedWarning)\n",
      "C:\\Users\\Nandushreyas\\anaconda3\\envs\\Python\\lib\\site-packages\\sklearn\\model_selection\\_validation.py:536: FitFailedWarning: Estimator fit failed. The score on this train-test partition for these parameters will be set to nan. Details: \n",
      "ValueError: Metric 'canberra' not valid for sparse input. Use sorted(sklearn.neighbors.VALID_METRICS_SPARSE['brute']) to get valid options. Metric can also be a callable function.\n",
      "\n",
      "  FitFailedWarning)\n",
      "C:\\Users\\Nandushreyas\\anaconda3\\envs\\Python\\lib\\site-packages\\sklearn\\model_selection\\_validation.py:536: FitFailedWarning: Estimator fit failed. The score on this train-test partition for these parameters will be set to nan. Details: \n",
      "ValueError: Metric 'canberra' not valid for sparse input. Use sorted(sklearn.neighbors.VALID_METRICS_SPARSE['brute']) to get valid options. Metric can also be a callable function.\n",
      "\n",
      "  FitFailedWarning)\n"
     ]
    },
    {
     "data": {
      "text/plain": [
       "GridSearchCV(cv=10, error_score=nan,\n",
       "             estimator=KNeighborsClassifier(algorithm='auto', leaf_size=30,\n",
       "                                            metric='minkowski',\n",
       "                                            metric_params=None, n_jobs=None,\n",
       "                                            n_neighbors=5, p=2,\n",
       "                                            weights='uniform'),\n",
       "             iid='deprecated', n_jobs=None,\n",
       "             param_grid=[{'metric': ['canberra', 'euclidean', 'minkowski'],\n",
       "                          'n_neighbors': range(5, 10)}],\n",
       "             pre_dispatch='2*n_jobs', refit=True, return_train_score=False,\n",
       "             scoring='roc_auc', verbose=0)"
      ]
     },
     "execution_count": 35,
     "metadata": {},
     "output_type": "execute_result"
    }
   ],
   "source": [
    "grid_search.fit(X_train,y_train)"
   ]
  },
  {
   "cell_type": "code",
   "execution_count": 36,
   "metadata": {},
   "outputs": [
    {
     "data": {
      "text/plain": [
       "0.9697225344948797"
      ]
     },
     "execution_count": 36,
     "metadata": {},
     "output_type": "execute_result"
    }
   ],
   "source": [
    "grid_search.best_score_"
   ]
  },
  {
   "cell_type": "code",
   "execution_count": 37,
   "metadata": {},
   "outputs": [
    {
     "data": {
      "text/plain": [
       "{'metric': 'euclidean', 'n_neighbors': 5}"
      ]
     },
     "execution_count": 37,
     "metadata": {},
     "output_type": "execute_result"
    }
   ],
   "source": [
    "grid_search.best_params_"
   ]
  },
  {
   "cell_type": "code",
   "execution_count": 38,
   "metadata": {},
   "outputs": [],
   "source": [
    "predict_grid = grid_search.predict(X_test)"
   ]
  },
  {
   "cell_type": "code",
   "execution_count": 39,
   "metadata": {},
   "outputs": [
    {
     "name": "stdout",
     "output_type": "stream",
     "text": [
      "              precision    recall  f1-score   support\n",
      "\n",
      "           0       0.96      0.93      0.95      1185\n",
      "           1       0.86      0.91      0.89       554\n",
      "\n",
      "    accuracy                           0.93      1739\n",
      "   macro avg       0.91      0.92      0.92      1739\n",
      "weighted avg       0.93      0.93      0.93      1739\n",
      "\n"
     ]
    }
   ],
   "source": [
    "print(classification_report(y_test , predict_grid))"
   ]
  },
  {
   "cell_type": "code",
   "execution_count": null,
   "metadata": {},
   "outputs": [],
   "source": []
  },
  {
   "cell_type": "code",
   "execution_count": 40,
   "metadata": {},
   "outputs": [],
   "source": [
    "# Checking on our Own Example\n",
    "example = ['Hello , want free viagra?', \n",
    "          'need a mortgage? Reply to arrange a call with a specialist and get a quote',\n",
    "          ' Payment Protection Insurance (PPI) IMPORTANT - You could be entitled up to £3,160 in compensation from mis-sold PPI on a credit card or loan. Please reply PPI for info or STOP to opt out.',\n",
    "          'Accident compensationYou have still not claimed the compensation you are due for the accident you had. To start the process please reply YES. To opt out text STOP' ,\n",
    "          'Debt forgiveness.Due to a new legislation, those struggling with debt can now apply to have it written off. For more information text the word INFO or to opt out text STOP' , \n",
    "          'Sachin Ramesh Tendulkar born 24 April 1973) is an Indian former international cricketer and a former captain of the Indian national team. He is widely regarded as one of the greatest batsmen in the history of cricket.[5] He is the highest run scorer of all time in International cricket.Tendulkar took up cricket at the age of eleven, made his Test debut on 15 November 1989 against Pakistan in Karachi at the age of sixteen, and went on to represent Mumbai domestically and India internationally for close to twenty-four years. He is the only player to have scored one hundred international centuries, the first batsman to score a double century in a One Day International (ODI), the holder of the record for the most runs in both Test and ODI, and the only player to complete more than 30,000 runs in international cricket.[6] He is colloquially known as Little Master or Master Blaster'\n",
    "          ]"
   ]
  },
  {
   "cell_type": "code",
   "execution_count": 41,
   "metadata": {},
   "outputs": [],
   "source": [
    "doc_term_matrix = vectorizer.transform(example)"
   ]
  },
  {
   "cell_type": "code",
   "execution_count": 42,
   "metadata": {},
   "outputs": [
    {
     "data": {
      "text/plain": [
       "array([1, 1, 1, 0, 1, 0], dtype=int64)"
      ]
     },
     "execution_count": 42,
     "metadata": {},
     "output_type": "execute_result"
    }
   ],
   "source": [
    "classifier.predict(doc_term_matrix)"
   ]
  }
 ],
 "metadata": {
  "kernelspec": {
   "display_name": "Python 3",
   "language": "python",
   "name": "python3"
  },
  "language_info": {
   "codemirror_mode": {
    "name": "ipython",
    "version": 3
   },
   "file_extension": ".py",
   "mimetype": "text/x-python",
   "name": "python",
   "nbconvert_exporter": "python",
   "pygments_lexer": "ipython3",
   "version": "3.7.7"
  }
 },
 "nbformat": 4,
 "nbformat_minor": 4
}
